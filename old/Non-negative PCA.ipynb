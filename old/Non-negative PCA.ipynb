{
 "cells": [
  {
   "cell_type": "code",
   "execution_count": 1,
   "metadata": {},
   "outputs": [
    {
     "name": "stderr",
     "output_type": "stream",
     "text": [
      "/cis/home/yma93/miniconda3/envs/ml/lib/python3.9/site-packages/tqdm/auto.py:21: TqdmWarning: IProgress not found. Please update jupyter and ipywidgets. See https://ipywidgets.readthedocs.io/en/stable/user_install.html\n",
      "  from .autonotebook import tqdm as notebook_tqdm\n"
     ]
    }
   ],
   "source": [
    "import numpy as np\n",
    "import scipy\n",
    "import scipy.integrate as spi\n",
    "import matplotlib.pyplot as plt\n",
    "from tqdm import tqdm\n",
    "import networkx as nx\n",
    "import torch\n",
    "import scipy.optimize as spo"
   ]
  },
  {
   "cell_type": "code",
   "execution_count": 2,
   "metadata": {},
   "outputs": [],
   "source": [
    "def solve_equation(f, range, tol=1e-5):\n",
    "    \"\"\"\n",
    "    Find the root of the function f in the interval [a, b] using binary search.\n",
    "    \"\"\"\n",
    "    a, b = range\n",
    "    while abs(a - b) > tol:\n",
    "        midpoint = (a + b) / 2.0\n",
    "        f_a, f_midpoint = f(a), f(midpoint)\n",
    "        if abs(f_midpoint) < tol:\n",
    "            return midpoint\n",
    "        if f_a * f_midpoint < 0:\n",
    "            b = midpoint\n",
    "        else:\n",
    "            a = midpoint\n",
    "    return (a + b) / 2.0\n",
    "\n",
    "\n",
    "def gaussian_integral(f):\n",
    "    \"\"\"General calculation of E[f(x,y)] for x,y iid N(0, 1).\"\"\"\n",
    "    return spi.dblquad(\n",
    "        lambda x, y: f(x, y) * np.exp(-(x**2) / 2.0) * np.exp(-(y**2) / 2.0) / (2.0 * np.pi),\n",
    "        -np.inf,\n",
    "        np.inf,\n",
    "        lambda x: -np.inf,\n",
    "        lambda x: np.inf,\n",
    "    )[0]\n",
    "\n",
    "\n",
    "def H(z, sigma, c):\n",
    "    \"\"\"Subordination function.\"\"\"\n",
    "    return z + gaussian_integral(\n",
    "        lambda x, y: 1 / (z - sigma(c * np.sqrt(2 / np.pi) * np.abs(x) + y))\n",
    "    )\n",
    "\n",
    "\n",
    "def H_prime(z, sigma, c, sigma_image):\n",
    "    \"\"\"Subordination function derivative.\"\"\"\n",
    "    if (\n",
    "        z >= sigma_image[0] and z <= sigma_image[1]\n",
    "    ):  # H_prime undefined when z is in the range of the support of nu\n",
    "        return -np.inf\n",
    "    return 1.0 - gaussian_integral(\n",
    "        lambda x, y: 1 / (z - sigma(c * np.sqrt(2 / np.pi) * np.abs(x) + y)) ** 2\n",
    "    )\n",
    "\n",
    "\n",
    "def theta(c, sigma, sigma_image):\n",
    "    \"\"\"Compute the effective signal.\"\"\"\n",
    "\n",
    "    def f(lam):  # lam_max is the root of this function, note it decreases in lam\n",
    "        return (\n",
    "            gaussian_integral(\n",
    "                lambda g, d: g**2 / (lam - sigma(c * np.sqrt(2 / np.pi) * np.abs(g) + d))\n",
    "            )\n",
    "            - 1.0 / c\n",
    "        )\n",
    "\n",
    "    a = sigma_image[1] + 1e-7  # lower bound for lam_max\n",
    "    b = c + max(abs(sigma_image[0]), abs(sigma_image[1]))  # upper bound for lam_max\n",
    "    # print(c,a,b, f(a), f(b))\n",
    "    if not (\n",
    "        f(a) > 0 and f(b) < 0\n",
    "    ):  # no outlier eigenvalue (all eigenvalues are inside the image of sigma)\n",
    "        return sigma_image[\n",
    "            1\n",
    "        ]  # return something inside the image of sigma, so that H'(theta) is undefined\n",
    "\n",
    "    # xs = np.linspace(a, b, 100)\n",
    "    # f_values = np.array([f(lam) for lam in xs])\n",
    "    # plt.plot(xs, f_values)\n",
    "    # plt.show()\n",
    "    # i = np.where(f_values > 0)[0][-1]\n",
    "    lam_max = solve_equation(f, [a, b])  # find the root by binary search\n",
    "    return lam_max\n",
    "\n",
    "\n",
    "def c_critical(c_range, sigma, sigma_image, plot=True):\n",
    "    \"\"\"Critical value of c.\"\"\"\n",
    "    if plot:  # plot the diagram for theta(c) and H_prime(theta(c)) values\n",
    "        c_values = np.linspace(c_range[0], c_range[1], 100)\n",
    "        theta_values = np.array([theta(c, sigma, sigma_image) for c in c_values])\n",
    "        H_prime_values = np.array(\n",
    "            [\n",
    "                H_prime(theta_values[i], sigma, c_values[i], sigma_image)\n",
    "                for i in range(len(c_values))\n",
    "            ]\n",
    "        )\n",
    "        # i = np.where(H_prime_values > -1)[0][0] # only plot the part where H_prime > -1\n",
    "        i = 0\n",
    "        fig, axes = plt.subplots(2, 1, sharex=True)\n",
    "        axes[0].plot(c_values[i:], theta_values[i:])\n",
    "        axes[1].plot(c_values[i:], H_prime_values[i:])\n",
    "        axes[0].set_xlabel(\"$c$\")\n",
    "        axes[0].set_ylabel(\"$\\\\theta(c)$ (effective signal)\")\n",
    "        axes[1].set_xlabel(\"$c$\")\n",
    "        axes[1].set_ylabel(\"$H^{\\\\prime}(\\\\theta(c))$\")\n",
    "        plt.show()\n",
    "\n",
    "    if (\n",
    "        H_prime(theta(c_range[0], sigma, sigma_image), sigma, c_range[0], sigma_image)\n",
    "        * H_prime(theta(c_range[1], sigma, sigma_image), sigma, c_range[1], sigma_image)\n",
    "        > 0\n",
    "    ):  # no solution for H'=0 in the range\n",
    "        return c_range[1]\n",
    "    c_critical = solve_equation(\n",
    "        lambda c: H_prime(theta(c, sigma, sigma_image), sigma, c, sigma_image), c_range\n",
    "    )\n",
    "    return c_critical\n",
    "\n",
    "\n",
    "def outlier_eval(c, sigma, sigma_image):\n",
    "    \"\"\"Evaluate the outlier eigenvalue when c > c_critical.\"\"\"\n",
    "    return H(theta(c, sigma, sigma_image), sigma, c)"
   ]
  },
  {
   "cell_type": "markdown",
   "metadata": {},
   "source": [
    "# Validation of the method on simple $\\sigma = \\tanh$ "
   ]
  },
  {
   "cell_type": "code",
   "execution_count": 3,
   "metadata": {},
   "outputs": [
    {
     "data": {
      "image/png": "[encoded data removed]",
      "text/plain": [
       "<Figure size 640x480 with 2 Axes>"
      ]
     },
     "metadata": {},
     "output_type": "display_data"
    },
    {
     "data": {
      "text/plain": [
       "0.8973632812500001"
      ]
     },
     "execution_count": 3,
     "metadata": {},
     "output_type": "execute_result"
    }
   ],
   "source": [
    "sigma = lambda x: np.tanh(x)\n",
    "c_critical(c_range=[0.7, 1.1], sigma=sigma, sigma_image=[-1, 1], plot=True)"
   ]
  },
  {
   "cell_type": "code",
   "execution_count": 4,
   "metadata": {},
   "outputs": [
    {
     "data": {
      "text/plain": [
       "2.594198938330409"
      ]
     },
     "execution_count": 4,
     "metadata": {},
     "output_type": "execute_result"
    }
   ],
   "source": [
    "outlier_eval(c=1, sigma=sigma, sigma_image=[-1, 1])"
   ]
  },
  {
   "cell_type": "code",
   "execution_count": 3,
   "metadata": {},
   "outputs": [],
   "source": [
    "def custom_laplacian_lam_max(A, sigma):\n",
    "    \"\"\"Given adjacency matrix A, compute lambda_max(L) where L = \\hat{A} + diag(sigma(\\hat{d}))\"\"\"\n",
    "    D = sigma(A.sum(axis=1))\n",
    "    evals = np.linalg.eigvalsh(A + np.diag(D))\n",
    "    # plt.hist(evals, bins=500)\n",
    "    # plt.show()\n",
    "    return evals.max()\n",
    "\n",
    "\n",
    "def find_lam_max(sigma, n_range=np.arange(2000, 2500, 500), c=1, num_trials=1):\n",
    "    null = {}\n",
    "    planted = {}\n",
    "    for n in tqdm(n_range):\n",
    "        k = int(c * np.sqrt(n))\n",
    "        null_n = []\n",
    "        planted_n = []\n",
    "        for trials in tqdm(range(num_trials)):\n",
    "            W = np.random.normal(0, 1, (n, n))\n",
    "            W = np.tril(W, -1) + np.tril(W, -1).T\n",
    "            W /= np.sqrt(n)\n",
    "            x = np.random.normal(0, 1, n)\n",
    "            x /= np.linalg.norm(x)\n",
    "            x = np.abs(x)\n",
    "            A = c * np.outer(x, x) + W\n",
    "\n",
    "            X = A + np.diag(sigma(A.sum(axis=1))) - W\n",
    "            evals = np.linalg.eigvalsh(X)\n",
    "            # plt.hist(evals, bins=100)\n",
    "            # plt.show()\n",
    "            null_n.append(custom_laplacian_lam_max(W, sigma))\n",
    "            planted_n.append(custom_laplacian_lam_max(A, sigma))\n",
    "        null[n] = null_n\n",
    "        planted[n] = planted_n\n",
    "    return null, planted"
   ]
  },
  {
   "cell_type": "code",
   "execution_count": 154,
   "metadata": {},
   "outputs": [
    {
     "name": "stderr",
     "output_type": "stream",
     "text": [
      "100%|██████████| 1/1 [00:01<00:00,  1.00s/it]\n",
      "100%|██████████| 1/1 [00:01<00:00,  1.00s/it]"
     ]
    },
    {
     "name": "stdout",
     "output_type": "stream",
     "text": [
      "2.3171853298216876\n",
      "2.7121947462993274\n"
     ]
    },
    {
     "name": "stderr",
     "output_type": "stream",
     "text": [
      "\n"
     ]
    }
   ],
   "source": [
    "null, planted = find_lam_max(sigma, c=1)\n",
    "print(sum(null[2000]) / len(null[2000]))\n",
    "print(sum(planted[2000]) / len(planted[2000]))"
   ]
  },
  {
   "cell_type": "code",
   "execution_count": 2,
   "metadata": {},
   "outputs": [],
   "source": [
    "import numpy as np\n",
    "\n",
    "c = 5\n",
    "pre_transformed_dict = {}\n",
    "transformed_dict = {}\n",
    "n_ranges = np.arange(4000, 10000, 500)\n",
    "num_trials = 50\n",
    "for n in n_ranges:\n",
    "    upper_triangle_indices = np.triu_indices(n, k=1)\n",
    "    eval1 = []\n",
    "    eval2 = []\n",
    "    for _ in range(num_trials):\n",
    "        off_diag = np.random.randn((n * (n - 1) // 2))\n",
    "        on_diag = np.random.randn(n) * 2\n",
    "        A = np.zeros((n, n))\n",
    "        A[upper_triangle_indices] = off_diag\n",
    "        A += A.T\n",
    "        np.fill_diagonal(A, on_diag)\n",
    "\n",
    "        subset_size = int(c * np.sqrt(n))\n",
    "        subset = np.random.choice(range(n), subset_size, replace=False)\n",
    "        A[np.ix_(subset, subset)] += 1\n",
    "        A /= np.sqrt(n)\n",
    "        d = A @ np.ones(n)\n",
    "        L = A + np.diag(np.tanh(d))\n",
    "        evals = np.linalg.eigvalsh(L)\n",
    "        P = np.eye(n) - np.ones((n, n)) / n\n",
    "        transformed_L = P @ L @ P\n",
    "        transformed_evals = np.linalg.eigvalsh(transformed_L)\n",
    "        eval1.append(np.max(evals))\n",
    "        eval2.append(np.max(transformed_evals))\n",
    "    pre_transformed_dict[n] = np.array(eval1)\n",
    "    transformed_dict[n] = np.array(eval2)"
   ]
  },
  {
   "cell_type": "code",
   "execution_count": 3,
   "metadata": {},
   "outputs": [],
   "source": [
    "def layer_plot(\n",
    "    ax,\n",
    "    xs,\n",
    "    yss,\n",
    "    max_points=None,\n",
    "    label=None,\n",
    "    only_means=False,\n",
    "    errorbars=False,\n",
    "    color=None,\n",
    "    sigma=1.0,\n",
    "    fill_alpha=0.3,\n",
    "    linestyle=\"-\",\n",
    "    linewidth=1,\n",
    "    elinewidth=1,\n",
    "):\n",
    "    means = np.array([np.mean(ys) for ys in yss])\n",
    "    devs = np.array([np.std(ys) * sigma for ys in yss])\n",
    "    print(means)\n",
    "    if max_points is not None:\n",
    "        n = xs.shape[0]\n",
    "        thin = max(1, n // max_points)\n",
    "        xs = xs[::thin]\n",
    "        means = means[::thin]\n",
    "        devs = devs[::thin]\n",
    "    if errorbars:\n",
    "        ax.scatter(xs, means, c=color, label=label)\n",
    "        ax.errorbar(\n",
    "            xs,\n",
    "            means,\n",
    "            yerr=devs,\n",
    "            linestyle=linestyle,\n",
    "            linewidth=linewidth,\n",
    "            elinewidth=elinewidth,\n",
    "            c=color,\n",
    "        )\n",
    "    else:\n",
    "        ax.plot(xs, means, c=color, label=label, linestyle=linestyle, linewidth=linewidth)\n",
    "        if not only_means:\n",
    "            ax.fill_between(xs, means, means + devs, alpha=fill_alpha, color=color)\n",
    "            ax.fill_between(xs, means, means - devs, alpha=fill_alpha, color=color)"
   ]
  },
  {
   "cell_type": "code",
   "execution_count": 8,
   "metadata": {},
   "outputs": [
    {
     "data": {
      "text/plain": [
       "5.715662822584567"
      ]
     },
     "execution_count": 8,
     "metadata": {},
     "output_type": "execute_result"
    }
   ],
   "source": [
    "transformed_mean = [np.mean(transformed_dict[n]) for n in n_ranges]\n",
    "transformed_mean[0]"
   ]
  },
  {
   "cell_type": "code",
   "execution_count": 11,
   "metadata": {},
   "outputs": [
    {
     "name": "stdout",
     "output_type": "stream",
     "text": [
      "[5.71566282 5.73555956 5.76076883 5.77537761 5.79643016 5.80961907\n",
      " 5.82726545 5.83489951 5.84540801 5.85012409 5.86341049 5.86787047]\n",
      "[6.16941419 6.16327043 6.16583172 6.16049162 6.166466   6.16499375\n",
      " 6.16938871 6.16661126 6.16616878 6.16151857 6.16538965 6.16240533]\n"
     ]
    },
    {
     "data": {
      "image/png": "[encoded data removed]",
      "text/plain": [
       "<Figure size 500x500 with 1 Axes>"
      ]
     },
     "metadata": {},
     "output_type": "display_data"
    }
   ],
   "source": [
    "import matplotlib.pyplot as plt\n",
    "\n",
    "transformed = [transformed_dict[n] for n in n_ranges]\n",
    "pre_transformed = [pre_transformed_dict[n] for n in n_ranges]\n",
    "fig, ax = plt.subplots(1, 1, figsize=(5, 5))\n",
    "layer_plot(ax, n_ranges, transformed, label=\"transformed\", errorbars=False, color=\"blue\")\n",
    "layer_plot(ax, n_ranges, pre_transformed, label=\"pre_transformed\", errorbars=False, color=\"orange\")\n",
    "transformed_mean = [np.mean(transformed_dict[n]) for n in n_ranges]\n",
    "# x0 = transformed_mean[0]\n",
    "# y = x0 * n_ranges[0] ** (-1/4) * n_ranges ** (1/4)\n",
    "ax.set_xlabel(\"n\")\n",
    "ax.set_ylabel(\"Maximum Eigenvalue\")\n",
    "ax.legend()\n",
    "# plt.xscale('log')\n",
    "# plt.yscale('log')\n",
    "plt.show()"
   ]
  },
  {
   "cell_type": "markdown",
   "metadata": {},
   "source": [
    "# Find Optimal $\\sigma$ with blackbox optimization"
   ]
  },
  {
   "cell_type": "code",
   "execution_count": null,
   "metadata": {},
   "outputs": [],
   "source": [
    "# from scipy.stats import norm\n",
    "\n",
    "\n",
    "# def compute_cdfs(x, y):\n",
    "#     \"\"\"Compute the cdf of sigma(c\\sqrt{2/pi} |g| + h)\"\"\"\n",
    "\n",
    "\n",
    "# def discrete_stieltjes(x, y):\n",
    "#     \"\"\"General calculation of E[f(x)] for x\\sim sigma(c\\sqrt{2/pi} |g| + h), where g,h\\sim N(0,1).\"\"\"\n",
    "#     \"\"\"input: x, y are np arrays define a step function f(x) = y[i] for x in (x[i], x[i+1])\"\"\"\n",
    "#     assert x[0] == -np.inf\n",
    "#     assert x[-1] == np.inf\n",
    "#     F_x = compute_cdfs(x, y)\n",
    "\n",
    "#     F_x_diff = F_x[1:] - F_x[:-1]\n",
    "#     return (F_x_diff * y).sum()\n",
    "\n",
    "\n",
    "# def H_discrete(z, sigma, c):\n",
    "#     \"\"\"Subordination function.\"\"\"\n",
    "#     sigma_x, sigma_y = sigma\n",
    "#     return z + discrete_stieltjes(sigma_x, 1.0 / (z - sigma_y))\n",
    "\n",
    "\n",
    "# def H_prime_discrete(z, sigma, c, sigma_image):\n",
    "#     \"\"\"Subordination function derivative.\"\"\"\n",
    "#     if (\n",
    "#         z >= sigma_image[0] and z <= sigma_image[1]\n",
    "#     ):  # H_prime undefined when z is in the range of the support of nu\n",
    "#         return -np.inf\n",
    "#     sigma_x, sigma_y = sigma\n",
    "#     return 1.0 - discrete_stieltjes(sigma_x, 1.0 / (z - sigma_y) ** 2)\n",
    "\n",
    "\n",
    "# def c_critical_discrete(c_range, sigma, sigma_image, plot=True):\n",
    "#     \"\"\"Critical value of c.\"\"\"\n",
    "#     if plot:  # plot the diagram for theta(c) and H_prime(theta(c)) values\n",
    "#         c_values = np.linspace(c_range[0], c_range[1], 100)\n",
    "#         theta_values = np.array([theta(c, sigma, sigma_image) for c in c_values])\n",
    "#         H_prime_values = np.array(\n",
    "#             [\n",
    "#                 H_prime_discrete(theta_values[i], sigma, c_values[i], sigma_image)\n",
    "#                 for i in range(len(c_values))\n",
    "#             ]\n",
    "#         )\n",
    "#         # i = np.where(H_prime_values > -1)[0][0] # only plot the part where H_prime > -1\n",
    "#         i = 0\n",
    "#         fig, axes = plt.subplots(2, 1, sharex=True)\n",
    "#         axes[0].plot(c_values[i:], theta_values[i:])\n",
    "#         axes[1].plot(c_values[i:], H_prime_values[i:])\n",
    "#         axes[0].set_xlabel(\"$c$\")\n",
    "#         axes[0].set_ylabel(\"$\\\\theta(c)$ (effective signal)\")\n",
    "#         axes[1].set_xlabel(\"$c$\")\n",
    "#         axes[1].set_ylabel(\"$H^{\\\\prime}(\\\\theta(c))$\")\n",
    "#         plt.show()\n",
    "\n",
    "#     if (\n",
    "#         H_prime(theta(c_range[0], sigma, sigma_image), sigma, c_range[0], sigma_image)\n",
    "#         * H_prime(theta(c_range[1], sigma, sigma_image), sigma, c_range[1], sigma_image)\n",
    "#         > 0\n",
    "#     ):  # no solution for H'=0 in the range\n",
    "#         return c_range[1]\n",
    "#     c_critical = solve_equation(\n",
    "#         lambda c: H_prime_discrete(theta(c, sigma, sigma_image), sigma, c, sigma_image), c_range\n",
    "#     )\n",
    "#     return c_critical\n",
    "\n",
    "\n",
    "# def outlier_eval(c, sigma, sigma_image):\n",
    "#     \"\"\"Evaluate the outlier eigenvalue when c > c_critical.\"\"\"\n",
    "#     return H(theta(c, sigma, sigma_image), sigma, c)"
   ]
  },
  {
   "cell_type": "code",
   "execution_count": null,
   "metadata": {},
   "outputs": [],
   "source": [
    "# def c_for_step_function(beta, plot=False):\n",
    "#     \"\"\"\n",
    "#     Given parameter for the parametrized sigma function, compute c_critical.\n",
    "#     beta = (a[0], a[1], ..., a[n], b[0], ..., b[n])\n",
    "#     Define sigma to be a step function parametrized by:\n",
    "#     f(x) = y[i] for x in (x[i], x[i+1]) where\n",
    "#     x = (-np.inf, a[0], a[0:1].sum(), ..., a[0:n].sum(), np.inf)\n",
    "#     y = (0, b[0], b[0:1].sum(), ..., b[0:n].sum(), b[0:n].sum())\n",
    "#     \"\"\"\n",
    "#     if isinstance(beta, list):\n",
    "#         beta = np.array(beta)\n",
    "#     n = len(beta) // 2 - 1\n",
    "#     a, b = beta[0 : n + 1], beta[n + 1 :]\n",
    "#     assert (a[1:] >= 0).all()\n",
    "#     assert (b >= 0).all()\n",
    "#     x = np.cumsum(a)\n",
    "#     x = np.concatenate(([-np.inf], x, [np.inf]))\n",
    "#     y = np.cumsum(b)\n",
    "#     y = np.concatenate(([0], y))\n",
    "\n",
    "#     image = [0, b.sum()]\n",
    "#     c = c_critical_discrete([0.3, 0.9], sigma=(x, y), sigma_image=image, plot=plot)\n",
    "#     return c\n",
    "\n",
    "\n",
    "# def plot_step_function(beta, ax):\n",
    "#     n = len(beta) // 2 - 1\n",
    "#     a, b = beta[0 : n + 1], beta[n + 1 :]\n",
    "#     x = np.cumsum(a)\n",
    "#     x = np.concatenate(([-np.inf], x, [np.inf]))\n",
    "#     y = np.cumsum(b)\n",
    "#     y = np.concatenate(([0], y))\n",
    "#     x_s = np.linspace(-10, 10, 1000)\n",
    "#     y_s = np.zeros_like(x_s)\n",
    "#     for i in range(0, n + 2):\n",
    "#         y_s[x_s >= x[i]] = y[i]\n",
    "#     ax.plot(x_s, y_s)"
   ]
  },
  {
   "cell_type": "code",
   "execution_count": 4,
   "metadata": {},
   "outputs": [],
   "source": [
    "def c_for_parametrized_tanh(beta):\n",
    "    \"\"\"Given parameter for the parametrized sigma function, compute c_critical.\"\"\"\n",
    "    sigma = lambda x: beta[0] * np.tanh(beta[1] * x)\n",
    "    sigma_image = [-beta[0], beta[0]]\n",
    "    c = c_critical([0.3, 0.9], sigma=sigma, sigma_image=sigma_image, plot=False)\n",
    "    print(f\"beta={beta}, c_critical={c}\")\n",
    "    return c"
   ]
  },
  {
   "cell_type": "code",
   "execution_count": 5,
   "metadata": {},
   "outputs": [
    {
     "name": "stdout",
     "output_type": "stream",
     "text": [
      "beta=[1. 1.], c_critical=0.8973632812500001\n",
      "beta=[1.05 1.  ], c_critical=0.89630126953125\n",
      "beta=[1.   1.05], c_critical=0.8986679077148438\n",
      "beta=[1.05 0.95], c_critical=0.8949325561523438\n",
      "beta=[1.075 0.9  ], c_critical=0.893023681640625\n",
      "beta=[1.125 0.9  ], c_critical=0.892071533203125\n",
      "beta=[1.1875 0.85  ], c_critical=0.8895538330078124\n",
      "beta=[1.2125 0.75  ], c_critical=0.8861846923828125\n",
      "beta=[1.29375 0.625  ], c_critical=0.8815246582031251\n",
      "beta=[1.40625 0.575  ], c_critical=0.8791076660156252\n",
      "beta=[1.571875 0.4125  ], c_critical=0.8766128540039064\n",
      "beta=[1.678125 0.1875  ], c_critical=0.9\n",
      "beta=[1.31015625 0.684375  ], c_critical=0.8829299926757812\n",
      "beta=[1.55546875 0.353125  ], c_critical=0.8771026611328127\n",
      "beta=[1.83359375 0.140625  ], c_critical=0.9\n",
      "beta=[1.42871094 0.50390625], c_critical=0.8775650024414063\n",
      "beta=[1.69863281 0.26171875], c_critical=0.9\n",
      "beta=[1.49619141 0.44335937], c_critical=0.8765991210937502\n",
      "beta=[1.51259766 0.50273437], c_critical=0.8772033691406251\n",
      "beta=[1.54475098 0.39052734], c_critical=0.8766082763671876\n",
      "beta=[1.46906738 0.42138672], c_critical=0.8766174316406252\n",
      "beta=[1.5461731  0.41472168], c_critical=0.8765213012695314\n",
      "beta=[1.49761353 0.46755371], c_critical=0.8767959594726562\n",
      "beta=[1.53296661 0.40978394], c_critical=0.876507568359375\n",
      "beta=[1.5829483  0.38114624], c_critical=0.8768554687500001\n",
      "beta=[1.51788063 0.42780609], c_critical=0.8765167236328126\n",
      "beta=[1.50467415 0.42286835], c_critical=0.8765167236328126\n",
      "beta=[1.51504889 0.42083168], c_critical=0.8765029907226562\n",
      "beta=[1.53013487 0.40280952], c_critical=0.8765213012695314\n",
      "beta=[1.52094419 0.42155695], c_critical=0.8764984130859376\n",
      "beta=[1.50302646 0.43260469], c_critical=0.8765441894531252\n",
      "beta=[1.52548158 0.41548913], c_critical=0.8764984130859376\n",
      "beta=[1.53137688 0.41621439], c_critical=0.8764984130859376\n",
      "beta=[1.52729488 0.41736872], c_critical=0.8764984130859376\n",
      "beta=[1.51913088 0.41967736], c_critical=0.8764984130859376\n",
      "beta=[1.52525388 0.41794588], c_critical=0.8764984130859376\n",
      "beta=[1.52321288 0.41852304], c_critical=0.8764984130859376\n",
      "beta=[1.52411954 0.41946283], c_critical=0.8765029907226562\n",
      "beta=[1.52003754 0.42061715], c_critical=0.8765029907226562\n",
      "beta=[1.52309904 0.41975141], c_critical=0.8765029907226562\n"
     ]
    }
   ],
   "source": [
    "res = spo.minimize(c_for_parametrized_tanh, [1.0, 1.0], method=\"Nelder-Mead\")\n",
    "print(res.x)"
   ]
  },
  {
   "cell_type": "code",
   "execution_count": null,
   "metadata": {},
   "outputs": [],
   "source": [
    "from scipy.interpolate import CubicSpline\n",
    "\n",
    "\n",
    "def c_for_cubic_spline(beta):\n",
    "    \"\"\"\n",
    "    Given parameter for the parametrized sigma function, compute c_critical.\n",
    "    The parametrization is as follows:\n",
    "    Define sigma to be cubic spline interpolation of the knots inside [0, beta[0]]; constant outside of it with value at the left/right end point.\n",
    "    The n knots x1, ..., x_n are evenly spaced between [0, beta[0]].\n",
    "    y_1 = beta[1], y_2 = beta[1]+beta[2], ..., y_n = beta[1] + ... + beta[n] are the values at the knots.\n",
    "    \"\"\"\n",
    "    n = 5\n",
    "    assert beta[1] > 0\n",
    "    assert len(beta) == n + 1\n",
    "    assert (beta[2:] >= 0).all()\n",
    "\n",
    "    def spline_extrapolate(t):  # extrapolate the spline outside of [a, b] with constant values\n",
    "        a, b = beta[0], beta[1]\n",
    "        x = np.linspace(a, b, n)  # knots\n",
    "        y = np.cumsum(beta[2:])  # values at knots\n",
    "        y = np.concatenate([[0], y])\n",
    "        spline = CubicSpline(x, y, bc_type=\"clamped\", extrapolate=False)\n",
    "\n",
    "        if isinstance(t, (int, float)):\n",
    "            if t < a:\n",
    "                return y[0]\n",
    "            if t > b:\n",
    "                return y[-1]\n",
    "            return spline(t)\n",
    "        elif isinstance(t, torch.Tensor):\n",
    "            y = torch.tensor(spline(t))\n",
    "            y[t < a] = spline(a).item()\n",
    "            y[t > b] = spline(b).item()\n",
    "            return y\n",
    "\n",
    "    x = torch.linspace(-10, 10, 100)\n",
    "    y = spline_extrapolate(x)\n",
    "    plt.plot(x, y)\n",
    "    plt.show()\n",
    "    image = [0, np.sum(beta[2:])]\n",
    "    c = c_critical([0.3, 0.9], sigma=spline_extrapolate, sigma_image=image, plot=False)\n",
    "    print(f\"beta={beta}, c_critical={c}\")\n",
    "    return c"
   ]
  },
  {
   "cell_type": "code",
   "execution_count": null,
   "metadata": {},
   "outputs": [],
   "source": [
    "n = 5\n",
    "x = np.linspace(-5, 5, n)\n",
    "y = 1.7 * np.tanh(0.58 * x) + 1.7\n",
    "y[0], y[-1] = 0, 3.4\n",
    "delta = y[1:] - y[:-1]\n",
    "beta0 = np.concatenate(([-5, 5], delta))\n",
    "spo.minimize(c_for_cubic_spline, beta0, method=\"Nelder-Mead\", bounds=bounds)"
   ]
  },
  {
   "cell_type": "code",
   "execution_count": null,
   "metadata": {},
   "outputs": [],
   "source": []
  }
 ],
 "metadata": {
  "kernelspec": {
   "display_name": "ml",
   "language": "python",
   "name": "ml"
  },
  "language_info": {
   "codemirror_mode": {
    "name": "ipython",
    "version": 3
   },
   "file_extension": ".py",
   "mimetype": "text/x-python",
   "name": "python",
   "nbconvert_exporter": "python",
   "pygments_lexer": "ipython3",
   "version": "3.9.18"
  }
 },
 "nbformat": 4,
 "nbformat_minor": 2
}
