{
 "cells": [
  {
   "cell_type": "code",
   "execution_count": 1,
   "metadata": {},
   "outputs": [
    {
     "name": "stderr",
     "output_type": "stream",
     "text": [
      "/cis/home/yma93/miniconda3/envs/nonlinear_laplacian/lib/python3.9/site-packages/tqdm/auto.py:21: TqdmWarning: IProgress not found. Please update jupyter and ipywidgets. See https://ipywidgets.readthedocs.io/en/stable/user_install.html\n",
      "  from .autonotebook import tqdm as notebook_tqdm\n"
     ]
    }
   ],
   "source": [
    "import torch\n",
    "import pickle\n",
    "import numpy as np\n",
    "from theoretical_analysis.sparse_nnpca_analysis import H, theta, generate_nnpca_matrix"
   ]
  },
  {
   "cell_type": "code",
   "execution_count": 3,
   "metadata": {},
   "outputs": [],
   "source": [
    "with open(\"logs/gaussian_sparse_nnpca/optimization_tanh.pkl\", \"rb\") as f:\n",
    "    res = pickle.load(f)"
   ]
  },
  {
   "cell_type": "code",
   "execution_count": 4,
   "metadata": {},
   "outputs": [
    {
     "name": "stdout",
     "output_type": "stream",
     "text": [
      "n=2000, L_p_evals=3.034599542617798, prediction=3.016802824122022\n",
      "n=3000, L_p_evals=3.0099093914031982, prediction=3.016802824122022\n",
      "n=5000, L_p_evals=3.019732713699341, prediction=3.016802824122022\n"
     ]
    }
   ],
   "source": [
    "N = 100\n",
    "beta = 1\n",
    "sigma = lambda x: res.x[0] * np.tanh(res.x[1] * x)\n",
    "results = {}\n",
    "for n in [2000, 3000, 5000, 10000]:\n",
    "    A_p_batch = torch.zeros((N, n, n))\n",
    "    y_batch = torch.zeros((N, n))\n",
    "\n",
    "    for i in range(N):\n",
    "        A_p, y = generate_nnpca_matrix(n, beta)\n",
    "        A_p_batch[i] = torch.tensor(A_p)\n",
    "        y_batch[i] = torch.tensor(y)\n",
    "\n",
    "    # Compute L_p in batch\n",
    "    diag_values = res.x[0] * torch.tanh(res.x[1] * A_p_batch.sum(dim=2))\n",
    "    L_p_batch = A_p_batch + torch.diag_embed(diag_values)\n",
    "    evals, evecs = torch.linalg.eigh(L_p_batch)\n",
    "    L_p_evals = evals[:, -1].numpy()\n",
    "    L_p_evals_mean = np.mean(L_p_evals)\n",
    "\n",
    "    # Compute the theoretical prediction\n",
    "    prediction = H(theta(c=beta, sigma=sigma, sigma_image=[-res.x[0], res.x[0]], tol=2e-12), sigma)\n",
    "    results[n] = [L_p_evals_mean, prediction]\n",
    "    print(f\"n={n}, L_p_evals={L_p_evals_mean}, prediction={prediction}\")"
   ]
  },
  {
   "cell_type": "code",
   "execution_count": null,
   "metadata": {},
   "outputs": [],
   "source": []
  }
 ],
 "metadata": {
  "kernelspec": {
   "display_name": "nonlinear_laplacian",
   "language": "python",
   "name": "python3"
  },
  "language_info": {
   "codemirror_mode": {
    "name": "ipython",
    "version": 3
   },
   "file_extension": ".py",
   "mimetype": "text/x-python",
   "name": "python",
   "nbconvert_exporter": "python",
   "pygments_lexer": "ipython3",
   "version": "3.9.22"
  }
 },
 "nbformat": 4,
 "nbformat_minor": 2
}
