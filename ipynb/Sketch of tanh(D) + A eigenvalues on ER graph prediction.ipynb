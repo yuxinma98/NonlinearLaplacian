{
 "cells": [
  {
   "cell_type": "code",
   "execution_count": 1,
   "metadata": {},
   "outputs": [],
   "source": [
    "import numpy as np\n",
    "import matplotlib.pyplot as plt\n",
    "import cvxpy as cv"
   ]
  },
  {
   "cell_type": "code",
   "execution_count": 6,
   "metadata": {},
   "outputs": [],
   "source": [
    "# Initialize matplotlib for LaTeX\n",
    "plt.rc('text', usetex=True)\n",
    "plt.rc('text.latex', preamble=r'\\usepackage{amsmath} \\usepackage{amssymb} \\usepackage{bm}')"
   ]
  },
  {
   "cell_type": "markdown",
   "metadata": {},
   "source": [
    "# Plan for simple custom Laplacian\n",
    "\n",
    "Let's try to make a prediction of the shape of eigenvalues of a matrix formed as $a \\tanh(bD) + A$ for $a, b \\in \\mathbb{R}$ parameters (we'll want to change these to see if our prediction tracks empirical data).\n",
    "\n",
    "My guess is that this will behave as though $D$ is a diagonal of iid $\\mathcal{N}(0, 1)$ variables and $A$ is a GOE matrix. In that case, the eigenvalue distribution should be\n",
    "\n",
    "$$ a \\tanh(b\\mathcal{N}(0, 1)) \\boxplus \\mu_{\\mathsf{SC}} $$\n",
    "\n",
    "Here is a plan to numerically estimate this density.\n",
    "\n",
    "## General additive free convolution with semicircle\n",
    "\n",
    "Paralleling the covariance situation, we can write a general formula for $G_{\\nu \\boxplus \\mu_{\\mathsf{SC}}}$.\n",
    "Recall that we have\n",
    "\n",
    "$$ G_{\\nu \\boxplus \\mu_{\\mathsf{SC}}}^{-1}(z) - \\frac{1}{z} = R_{\\nu \\boxplus \\mu_{\\mathsf{SC}}}(z) = R_{\\nu}(z) + z = G_{\\nu}^{-1}(z) - \\frac{1}{z} + z $$\n",
    "\n",
    "Rearranging this gives the implicit equation\n",
    "\n",
    "$$ G_{\\nu \\boxplus \\mu_{\\mathsf{SC}}}(z) = G_{\\nu}(z - G_{\\nu \\boxplus \\mu_{\\mathsf{SC}}}(z)) $$\n",
    "\n",
    "and expanding the definition of $G_{\\nu}$ on the right gives\n",
    "\n",
    "$$ G_{\\nu \\boxplus \\mu_{\\mathsf{SC}}}(z) = \\int \\frac{1}{z - G_{\\nu \\boxplus \\mu_{\\mathsf{SC}}}(z) - t} d\\nu(t) $$\n",
    "\n",
    "exactly paralleling the covariance version below.\n",
    "\n",
    "## Plugging in transformed Gaussian\n",
    "\n",
    "We want to use this with $\\nu = \\phi(\\mathcal{N}(0, 1))$ for some $\\phi$ (for us $\\phi(t) = a\\tanh(bt)$, but other sigmoids / other functions in general also make sense). You can actually just substitute this directly into the Stieltjes transform equation without explicitly calculating the density of $\\phi(\\mathcal{N}(0, 1))$:\n",
    "\n",
    "\n",
    "$$ G_{\\nu \\boxplus \\mu_{\\mathsf{SC}}}(z) = \\int \\frac{1}{z - G_{\\nu \\boxplus \\mu_{\\mathsf{SC}}}(z) - \\phi(g)} \\frac{1}{\\sqrt{2\\pi}} e^{-g^2/2} dg $$\n",
    "\n",
    "<span style=\"color:red\">Our situation is different than the covariance estimation one:</span> There the unknown was the measure $\\nu$ on the right, while here it is $\\nu \\boxplus \\mu_{\\mathsf{SC}}$ on the left. But, I think we can follow a somewhat similar approach. Fix a grid of $z_j = x_j + i\\epsilon$ close to the real axis. Call $G_j = G_{\\nu \\boxplus \\mu_{\\mathsf{SC}}}(z_j)$. These numbers satisfy the fixed-point equation\n",
    "\n",
    "$$ G_j = \\int \\frac{1}{z_j - G_j - \\phi(g)} \\frac{1}{\\sqrt{2\\pi}} e^{-g^2/2} dg $$\n",
    "\n",
    "We can (hopefully) solve this by just iterating the above map, i.e., by running a numerical integration of\n",
    "\n",
    "$$ G_j^{(t + 1)} = \\int \\frac{1}{z_j - G_j^{(t)} - \\phi(g)} \\frac{1}{\\sqrt{2\\pi}} e^{-g^2/2} dg $$\n",
    "\n",
    "until convergence (say, until $|G_j^{(t + 1)} - G_j^{(t)}|$ becomes sufficiently small). To recovery the density of $\\nu \\boxplus \\mu_{\\mathsf{SC}}$, we can use the Stieltjes inversion formula: if this density is $\\rho$, then\n",
    "\n",
    "$$ \\rho(x) = \\lim_{\\epsilon \\to 0} -\\frac{1}{\\pi} \\mathsf{Im}(G_{\\nu \\boxplus \\mu_{\\mathsf{SC}}}(x + it)) $$\n",
    "\n",
    "In particular, for $\\epsilon$ small enough, we should have\n",
    "\n",
    "$$ \\rho(x_j) \\approx -\\frac{1}{\\pi} \\mathsf{Im}(G_j), $$\n",
    "\n",
    "giving us a sequence of point values of estimates of the density.\n",
    "\n",
    "## Better sigmoid?\n",
    "\n",
    "One small comment: another reasonable choice of nonlinearity is $\\phi(t) = t / \\sqrt{1 + t^2}$, a different shape of sigmoid. For this one, it seems Mathematica is able to calculate $G_{\\nu}(z)$ above for any given $z$ in closed form fairly quickly (though, weirdly, not for general $z$), so you could try this if the above numerical strategy has problems."
   ]
  },
  {
   "cell_type": "markdown",
   "metadata": {},
   "source": [
    "# <span style=\"color:red\">Covariance estimation code</span>\n",
    "\n",
    "<span style=\"color:red\">NOTE: I don't think this will actually be useful, but I had already put it in here, so including just in case.</span>\n",
    "\n",
    "This generates the example of covariance estimation figure from my lecture notes.\n",
    "\n",
    "Recall that this is using the formula for multiplicative free convolution with Marchenko-Pastur, that for any compactly supported probability measure $\\mu$,\n",
    "\n",
    "$$ G_{\\mu \\boxtimes \\mu_{\\mathsf{MP}(c)}}(z) = \\int \\frac{1}{z - x(1 - c + cz G_{\\mu \\boxtimes \\mu_{\\mathsf{MP}(c)}}(z))} d\\mu(x). $$"
   ]
  },
  {
   "cell_type": "code",
   "execution_count": 2,
   "metadata": {},
   "outputs": [],
   "source": [
    "d = 500\n",
    "m = 2500"
   ]
  },
  {
   "cell_type": "code",
   "execution_count": 3,
   "metadata": {},
   "outputs": [],
   "source": [
    "# True eigenvalues: half at 1, half at 2\n",
    "Sigma = np.zeros((d, d))\n",
    "for i in range(d):\n",
    "    if i % 2 == 0:\n",
    "        Sigma[i, i] = 1\n",
    "    else:\n",
    "        Sigma[i, i] = 2"
   ]
  },
  {
   "cell_type": "code",
   "execution_count": 4,
   "metadata": {},
   "outputs": [],
   "source": [
    "# Generate synthetic data and sample covariance    \n",
    "Sigma_sqrt = np.sqrt(Sigma)\n",
    "G = np.random.normal(size=(d, m))\n",
    "X = Sigma_sqrt @ G\n",
    "Sigma_hat = X @ X.T / m"
   ]
  },
  {
   "cell_type": "code",
   "execution_count": 10,
   "metadata": {},
   "outputs": [
    {
     "name": "stdout",
     "output_type": "stream",
     "text": [
      "0.0005797104157126975\n"
     ]
    }
   ],
   "source": [
    "# Grid sizes\n",
    "num_ts = 15\n",
    "num_zs = 50\n",
    "z_imag_part = 1.\n",
    "\n",
    "# Generate grids\n",
    "ts = np.linspace(0.5, 3.0, num_ts)\n",
    "zs_x = np.linspace(0.0, 5.0, num_zs)\n",
    "zs = np.hstack([zs_x + z_imag_part * 1.j])\n",
    "\n",
    "evals = np.linalg.eigvalsh(Sigma_hat)\n",
    "\n",
    "# Build matrices to express the above equation between Stieltjes transforms of observation and input\n",
    "G_hats = np.zeros(num_zs, dtype=np.complex256)\n",
    "G_mat = np.zeros((num_zs, num_ts), dtype=np.complex256)\n",
    "for b in range(num_zs):\n",
    "    G_hats[b] = 1.0 / d * (1.0 / (zs[b] - evals)).sum()\n",
    "    \n",
    "for a in range(num_ts):\n",
    "    for b in range(num_zs):\n",
    "        G_mat[b, a] = 1.0 / (zs[b] - ts[a] * (1. - d/m + d/m * zs[b] * G_hats[b]))\n",
    "        \n",
    "# cvxpy linear program\n",
    "ws = cv.Variable(num_ts)\n",
    "G_err = cv.hstack([G_mat.real @ ws - G_hats.real, G_mat.imag @ ws - G_hats.imag])\n",
    "# Minimize infinity norm => linear program\n",
    "objective = cv.Minimize(cv.norm(G_err, p='inf'))\n",
    "constraints = [ws >= 0, cv.sum(ws) == 1]\n",
    "prob = cv.Problem(objective, constraints)\n",
    "\n",
    "value = prob.solve(solver='MOSEK')\n",
    "print(value)"
   ]
  },
  {
   "cell_type": "code",
   "execution_count": 8,
   "metadata": {},
   "outputs": [],
   "source": [
    "# Truncate to only include the point masses with enough mass\n",
    "ws_nonzero = ws.value[ws.value > 1e-2]\n",
    "ts_nonzero = ts[ws.value > 1e-2]"
   ]
  },
  {
   "cell_type": "code",
   "execution_count": 9,
   "metadata": {},
   "outputs": [
    {
     "data": {
      "text/plain": [
       "<matplotlib.legend.Legend at 0x7fdda575c9d0>"
      ]
     },
     "execution_count": 9,
     "metadata": {},
     "output_type": "execute_result"
    },
    {
     "data": {
      "image/png": "[encoded data removed]",
      "text/plain": [
       "<Figure size 576x360 with 1 Axes>"
      ]
     },
     "metadata": {
      "needs_background": "light"
     },
     "output_type": "display_data"
    }
   ],
   "source": [
    "plt.subplots(figsize=(8, 5))\n",
    "\n",
    "_ = plt.hist(np.linalg.eigvalsh(Sigma_hat), bins=60, density=True, label='$\\\\textrm{Sample Covariance Estimate}$', facecolor='lightgray', edgecolor='darkgray', linewidth=1)\n",
    "\n",
    "plt.scatter(ts_nonzero, ws_nonzero, color='black', s=100, zorder=10, label='$\\\\textrm{El Karoui Estimate}$')\n",
    "for i in range(ws_nonzero.shape[0]):\n",
    "    plt.vlines(ts_nonzero[i], 0.0, ws_nonzero[i], linewidth=4, zorder=10)\n",
    "    \n",
    "ws_true = np.array([0.5, 0.5])\n",
    "ts_true = np.array([1.0, 2.0])\n",
    "\n",
    "plt.scatter(ts_true, ws_true, color=(0.172549,0.627451,0.172549), s=100, zorder=5, label='$\\\\textrm{True Eigenvalues}$')\n",
    "for i in range(ws_nonzero.shape[0]):\n",
    "    plt.vlines(ts_true, 0.0, ws_true, color=(0.172549,0.627451,0.172549), zorder=5, linewidth=4)\n",
    "    \n",
    "plt.legend()"
   ]
  },
  {
   "cell_type": "code",
   "execution_count": null,
   "metadata": {},
   "outputs": [],
   "source": []
  }
 ],
 "metadata": {
  "kernelspec": {
   "display_name": "Python 3",
   "language": "python",
   "name": "python3"
  },
  "language_info": {
   "codemirror_mode": {
    "name": "ipython",
    "version": 3
   },
   "file_extension": ".py",
   "mimetype": "text/x-python",
   "name": "python",
   "nbconvert_exporter": "python",
   "pygments_lexer": "ipython3",
   "version": "3.8.10"
  }
 },
 "nbformat": 4,
 "nbformat_minor": 4
}
