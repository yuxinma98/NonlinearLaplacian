{
 "cells": [
  {
   "cell_type": "markdown",
   "metadata": {},
   "source": [
    "# Explanation\n",
    "\n",
    "<p style=\"color: red;\">Note that this calculation of the effective signal strength $\\theta_1$ is no longer what we think is accurate!</p>\n",
    "\n",
    "Based on \"Free convolution with a semicircular distribution and eigenvalues of spiked deformations of Wigner matrices\", Capitaine et al.\n",
    "\n",
    "We have $Y = \\hat{A} + D$ where $\\hat{A}_{ij} = (2A_{ij} - 1) / \\sqrt{n}$, so that the entrywise variance is $\\sigma^2 = 1$ <span style=\"color: red;\">(cf our discussion of their complex noise distribution)</span>.\n",
    "We can add back the \"missing block\" in the planted model without affecting the spectrum asymptotically.\n",
    "The signal part of $A$ in the planted model is $\\mathbb{E}[\\hat{A} \\mid S] = \\frac{1}{\\sqrt{n}}1_S1_S^{\\top} = \\frac{|S|}{\\sqrt{n}} \\hat{1}_S\\hat{1}_S^{\\top} = c \\hat{1}_S\\hat{1}_S^{\\top}$.\n",
    "\n",
    "In the null model $D_{ii} = \\sigma(g_i)$, while in the planted model on the planted coordinates $(i \\in S)$ we instead have $D_{ii} = \\sigma(c + g_i)$.\n",
    "So, the \"extra signal\" is of the form $\\sum_{i \\in S} (\\mathbb{E}_g \\sigma(c + g))e_ie_i^{\\top}$.\n",
    "In total then, the signal is like $(c + \\mathbb{E}_g \\sigma(c + g))\\hat{1}_S\\hat{1}_S^{\\top}$.\n",
    "I think probably we can ignore the other \"little signals\", since, in the language of the paper above, they will converge to values that are in the support of the noise distribution.\n",
    "\n",
    "So, we want to plug this signal into the setup of that paper, where $\\sigma^2 = 1$ (if I'm understanding correctly), $\\nu = \\sigma(\\mathcal{N}(0, 1))$, and $\\theta_1 = c + \\mathbb{E}_g \\sigma(c + g)$.\n",
    "\n",
    "I think this boils down to calculating\n",
    "$$ g_{\\nu}(z) = \\mathbb{E}_g \\frac{1}{z - \\sigma(g)}. $$\n",
    "Then, the \"subordination function\" involved is\n",
    "$$ H_{\\sigma, \\nu}(z) = z + g_{\\nu}(z) = z + \\mathbb{E}_g \\frac{1}{z - \\sigma(g)}, $$\n",
    "and the derivative is\n",
    "$$ H_{\\sigma, \\nu}^{\\prime}(z) = 1 - \\mathbb{E}_g \\frac{1}{(z - \\sigma(g))^2} $$\n",
    "So the evaluation we are interested in is\n",
    "$$ H^{\\prime}_{\\sigma, \\nu}(\\theta_1) = 1 - \\mathbb{E}_g \\frac{1}{(c + \\mathbb{E}_g \\sigma(c + g) - \\sigma(g))^2} $$\n",
    "In particular, there will be an outlier once $H^{\\prime}_{\\sigma, \\nu}(\\theta_1) > 0$, or\n",
    "$$ \\mathbb{E}_g \\frac{1}{(c + \\mathbb{E}_g \\sigma(c + g) - \\sigma(g))^2} < 1$$"
   ]
  },
  {
   "cell_type": "markdown",
   "metadata": {},
   "source": [
    "# Code"
   ]
  },
  {
   "cell_type": "code",
   "execution_count": 1,
   "metadata": {},
   "outputs": [],
   "source": [
    "import numpy as np\n",
    "import scipy as sp\n",
    "import scipy.integrate\n",
    "import matplotlib.pyplot as plt"
   ]
  },
  {
   "cell_type": "code",
   "execution_count": 9,
   "metadata": {},
   "outputs": [],
   "source": [
    "def style_ax(ax):\n",
    "    ax.grid(alpha=0.3)\n",
    "    ax.set_axisbelow(True)\n",
    "    ax.minorticks_on()\n",
    "    \n",
    "# plt.rc('text', usetex=True)\n",
    "# plt.rc('text.latex', preamble=r'\\usepackage{amsmath} \\usepackage{amssymb} \\usepackage{bm}')"
   ]
  },
  {
   "cell_type": "code",
   "execution_count": 6,
   "metadata": {},
   "outputs": [
    {
     "name": "stderr",
     "output_type": "stream",
     "text": [
      "/tmp/ipykernel_2534714/2505817521.py:16: IntegrationWarning: The integral is probably divergent, or slowly convergent.\n",
      "  return sp.integrate.quad(\n",
      "/tmp/ipykernel_2534714/2505817521.py:16: IntegrationWarning: The algorithm does not converge.  Roundoff error is detected\n",
      "  in the extrapolation table.  It is assumed that the requested tolerance\n",
      "  cannot be achieved, and that the returned result (if full_output = 1) is \n",
      "  the best which can be obtained.\n",
      "  return sp.integrate.quad(\n",
      "/tmp/ipykernel_2534714/2505817521.py:16: IntegrationWarning: The maximum number of subdivisions (50) has been achieved.\n",
      "  If increasing the limit yields no improvement it is advised to analyze \n",
      "  the integrand in order to determine the difficulties.  If the position of a \n",
      "  local difficulty can be determined (singularity, discontinuity) one will \n",
      "  probably gain from splitting up the interval and calling the integrator \n",
      "  on the subranges.  Perhaps a special-purpose integrator should be used.\n",
      "  return sp.integrate.quad(\n"
     ]
    },
    {
     "name": "stdout",
     "output_type": "stream",
     "text": [
      "Critical c: 0.5991983967935872\n"
     ]
    },
    {
     "data": {
      "text/plain": [
       "<matplotlib.lines.Line2D at 0x7f661d91da30>"
      ]
     },
     "execution_count": 6,
     "metadata": {},
     "output_type": "execute_result"
    },
    {
     "data": {
      "image/png": "[encoded data removed]",
      "text/plain": [
       "<Figure size 640x480 with 2 Axes>"
      ]
     },
     "metadata": {},
     "output_type": "display_data"
    }
   ],
   "source": [
    "def sigma(x):\n",
    "    return np.tanh(x)\n",
    "    # return np.tanh(x / 2) / 2\n",
    "    # return x / np.sqrt(1.0 + x ** 2)\n",
    "    # return np.minimum(1.0, np.maximum(-1.0, x)) / 2\n",
    "    # return np.tanh(4 * x) / 4\n",
    "    # return (2*x ** 3 - 3*x) * np.exp(-x ** 2 / 2) / (np.sqrt(3) * np.pi ** 0.25)\n",
    "\n",
    "# Approximate range:\n",
    "test_xs = np.linspace(-10, 10, 100)\n",
    "image = [np.min(sigma(test_xs)), np.max(sigma(test_xs))]\n",
    "\n",
    "\n",
    "def gaussian_integral(f):\n",
    "    \"\"\"General calculation of E[f(x)] for x ~ N(0, 1).\"\"\"\n",
    "    return sp.integrate.quad(\n",
    "        lambda x: f(x) * np.exp(-x ** 2 / 2.0) / np.sqrt(2.0 * np.pi), \n",
    "        float('-inf'), float('inf'))[0]\n",
    "\n",
    "\n",
    "def theta(c):\n",
    "    \"\"\"Effective signal for a given clique size c = |S| / sqrt(n).\"\"\"\n",
    "    return c + gaussian_integral(lambda x: sigma(c + x))\n",
    "\n",
    "\n",
    "def H(z):\n",
    "    \"\"\"Subordination function.\"\"\"\n",
    "    return z + gaussian_integral(lambda x: 1 / (z - sigma(x)))\n",
    "\n",
    "\n",
    "def H_prime(z):\n",
    "    \"\"\"Subordination function derivative.\"\"\"\n",
    "    return 1.0 - gaussian_integral(lambda x: 1 / (z - sigma(x)) ** 2)\n",
    "\n",
    "\n",
    "N = 500\n",
    "cs = np.linspace(0.5, 2.0, N)\n",
    "thetas = np.array([theta(c) for c in cs])\n",
    "\n",
    "# Hack to try to avoid blow-up around edges:\n",
    "l = [i for i in range(N) if image[0] < thetas[i] and thetas[i] < image[1]]\n",
    "if l:\n",
    "    i_crit = np.max(l)\n",
    "else:\n",
    "    i_crit = 1\n",
    "i_crit = i_crit + 40\n",
    "\n",
    "vals_H_prime = np.array([H_prime(theta(c)) for c in cs])\n",
    "for c, val in zip(cs, vals_H_prime):\n",
    "    if val > 0.0:\n",
    "        critical_c = c\n",
    "        break\n",
    "print('Critical c:', critical_c)\n",
    "# vals_H = np.array([H(c) for c in cs])\n",
    "\n",
    "fig, axes = plt.subplots(2, 1, sharex=True)\n",
    "\n",
    "axes[0].plot(cs, thetas)\n",
    "axes[0].set_xlabel('$c$ (clique size)')\n",
    "axes[0].set_ylabel('$\\\\theta(c)$ (effective signal)')\n",
    "\n",
    "axes[1].plot(cs[i_crit:], vals_H_prime[i_crit:])\n",
    "axes[1].set_xlabel('$c$ (clique size)')\n",
    "axes[1].set_ylabel('$H^{\\\\prime}(\\\\theta(c))$')\n",
    "\n",
    "plt.axhline(0.0, color='black')\n",
    "\n",
    "# for ax in axes:\n",
    "    # style_ax(ax)\n",
    "\n",
    "# Montanari-Deshpande belief propagation threshold:\n",
    "# plt.axvline(np.sqrt(1.0 / np.e), color='black')"
   ]
  },
  {
   "cell_type": "code",
   "execution_count": null,
   "metadata": {},
   "outputs": [],
   "source": []
  }
 ],
 "metadata": {
  "kernelspec": {
   "display_name": "Python 3",
   "language": "python",
   "name": "python3"
  },
  "language_info": {
   "codemirror_mode": {
    "name": "ipython",
    "version": 3
   },
   "file_extension": ".py",
   "mimetype": "text/x-python",
   "name": "python",
   "nbconvert_exporter": "python",
   "pygments_lexer": "ipython3",
   "version": "3.9.18"
  }
 },
 "nbformat": 4,
 "nbformat_minor": 4
}
