{
 "cells": [
  {
   "cell_type": "code",
   "execution_count": 1,
   "metadata": {},
   "outputs": [],
   "source": [
    "import numpy as np\n",
    "import scipy as sp\n",
    "import scipy.integrate\n",
    "import matplotlib.pyplot as plt"
   ]
  },
  {
   "cell_type": "code",
   "execution_count": 2,
   "metadata": {},
   "outputs": [
    {
     "name": "stdout",
     "output_type": "stream",
     "text": [
      "n = 4000\n",
      "\n",
      "True largest eigenvalue: 1.7039930304776756\n",
      "Old c + c_p prediction:  1.5504004907933266\n",
      "\n",
      "Stieltjes transform equation LHS: 0.9981361202768515\n",
      "Stieltjes transform equation RHS: 1.0\n"
     ]
    }
   ],
   "source": [
    "def sigma(x):\n",
    "    return np.tanh(x)\n",
    "\n",
    "\n",
    "test_xs = np.linspace(-10, 10, 100)\n",
    "image = [np.min(sigma(test_xs)), np.max(sigma(test_xs))]\n",
    "\n",
    "\n",
    "def gaussian_integral(g):\n",
    "    return sp.integrate.quad(lambda x: g(x) * np.exp(-x ** 2 / 2.0) / np.sqrt(2.0 * np.pi), float('-inf'), float('inf'))[0]\n",
    "\n",
    "\n",
    "def theta(c):\n",
    "    return c + gaussian_integral(lambda x: sigma(c + x))\n",
    "\n",
    "\n",
    "c = 1.0\n",
    "n = 4000\n",
    "g = np.random.normal(size=n)\n",
    "d = sigma(g + c)\n",
    "D = np.diag(d)\n",
    "A = c * np.ones((n, n)) / n + D\n",
    "\n",
    "lam_max = np.max(np.linalg.eigvalsh(A))\n",
    "\n",
    "c_p = gaussian_integral(lambda x: sigma(x + c))\n",
    "\n",
    "print('n =', n)\n",
    "print()\n",
    "print('True largest eigenvalue:', lam_max)\n",
    "print('Old c + c_p prediction: ', c + c_p)\n",
    "\n",
    "print()\n",
    "print('Stieltjes transform equation LHS:', gaussian_integral(lambda x: 1.0 / (lam_max - sigma(x + c))))\n",
    "print('Stieltjes transform equation RHS:', 1.0 / c)"
   ]
  },
  {
   "cell_type": "code",
   "execution_count": 30,
   "metadata": {},
   "outputs": [
    {
     "name": "stdout",
     "output_type": "stream",
     "text": [
      "0.9968167778897851\n",
      "1.0\n"
     ]
    }
   ],
   "source": [
    "# non-negative PCA\n",
    "c = 1.0\n",
    "n = 10000\n",
    "d = np.random.normal(size=n)\n",
    "x = np.random.normal(size=n)\n",
    "x /= np.linalg.norm(x,ord=2)\n",
    "x = np.abs(x)\n",
    "\n",
    "A = c * np.outer(x, x) + np.diag(sigma(c * np.linalg.norm(x, ord=1) * x + d))\n",
    "lam_max = np.max(np.linalg.eigvalsh(A))\n",
    "print(gaussian_integral(lambda y: gaussian_integral\n",
    "                        (lambda x: x**2 / (lam_max - sigma(y + c * np.sqrt(2/np.pi) * np.abs(x))))\n",
    "                        ))\n",
    "print(1.0/c)"
   ]
  },
  {
   "cell_type": "code",
   "execution_count": null,
   "metadata": {},
   "outputs": [],
   "source": []
  }
 ],
 "metadata": {
  "kernelspec": {
   "display_name": "ml",
   "language": "python",
   "name": "ml"
  },
  "language_info": {
   "codemirror_mode": {
    "name": "ipython",
    "version": 3
   },
   "file_extension": ".py",
   "mimetype": "text/x-python",
   "name": "python",
   "nbconvert_exporter": "python",
   "pygments_lexer": "ipython3",
   "version": "3.9.18"
  }
 },
 "nbformat": 4,
 "nbformat_minor": 4
}
