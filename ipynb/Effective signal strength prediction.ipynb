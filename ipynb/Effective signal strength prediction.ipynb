{
 "cells": [
  {
   "cell_type": "code",
   "execution_count": 1,
   "metadata": {},
   "outputs": [],
   "source": [
    "import numpy as np\n",
    "import scipy as sp\n",
    "import scipy.integrate\n",
    "import matplotlib.pyplot as plt"
   ]
  },
  {
   "cell_type": "code",
   "execution_count": 8,
   "metadata": {},
   "outputs": [
    {
     "name": "stdout",
     "output_type": "stream",
     "text": [
      "n = 4000\n",
      "\n",
      "True largest eigenvalue: 1.7007532104915575\n",
      "Old c + c_p prediction:  1.5504004907933266\n",
      "\n",
      "Stieltjes transform equation LHS: 1.0017127521448523\n",
      "Stieltjes transform equation RHS: 1.0\n"
     ]
    }
   ],
   "source": [
    "def sigma(x):\n",
    "    return np.tanh(x)\n",
    "\n",
    "\n",
    "test_xs = np.linspace(-10, 10, 100)\n",
    "image = [np.min(sigma(test_xs)), np.max(sigma(test_xs))]\n",
    "\n",
    "\n",
    "def gaussian_integral(g):\n",
    "    return sp.integrate.quad(lambda x: g(x) * np.exp(-x ** 2 / 2.0) / np.sqrt(2.0 * np.pi), float('-inf'), float('inf'))[0]\n",
    "\n",
    "\n",
    "def theta(c):\n",
    "    return c + gaussian_integral(lambda x: sigma(c + x))\n",
    "\n",
    "\n",
    "c = 1.0\n",
    "n = 4000\n",
    "g = np.random.normal(size=n)\n",
    "d = f(g + c)\n",
    "D = np.diag(d)\n",
    "A = c * np.ones((n, n)) / n + D\n",
    "\n",
    "lam_max = np.max(np.linalg.eigvalsh(A))\n",
    "\n",
    "c_p = gaussian_integral(lambda x: sigma(x + c))\n",
    "\n",
    "print('n =', n)\n",
    "print()\n",
    "print('True largest eigenvalue:', lam_max)\n",
    "print('Old c + c_p prediction: ', c + c_p)\n",
    "\n",
    "print()\n",
    "print('Stieltjes transform equation LHS:', gaussian_integral(lambda x: 1.0 / (lam_max - sigma(x + c))))\n",
    "print('Stieltjes transform equation RHS:', 1.0 / c)"
   ]
  }
 ],
 "metadata": {
  "kernelspec": {
   "display_name": "Python 3",
   "language": "python",
   "name": "python3"
  },
  "language_info": {
   "codemirror_mode": {
    "name": "ipython",
    "version": 3
   },
   "file_extension": ".py",
   "mimetype": "text/x-python",
   "name": "python",
   "nbconvert_exporter": "python",
   "pygments_lexer": "ipython3",
   "version": "3.8.10"
  }
 },
 "nbformat": 4,
 "nbformat_minor": 4
}
