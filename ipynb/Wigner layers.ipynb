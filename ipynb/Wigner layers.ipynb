{
 "cells": [
  {
   "cell_type": "code",
   "execution_count": 5,
   "metadata": {},
   "outputs": [],
   "source": [
    "import numpy as np\n",
    "import matplotlib.pyplot as plt\n",
    "\n",
    "import tkmath"
   ]
  },
  {
   "cell_type": "code",
   "execution_count": 388,
   "metadata": {},
   "outputs": [],
   "source": [
    "def s(A):\n",
    "    return np.sum(A)\n",
    "\n",
    "def t(A):\n",
    "    return np.trace(A)\n",
    "\n",
    "def d(A):\n",
    "    return np.diag(A)\n",
    "\n",
    "def f(A):\n",
    "    return A.sum(axis=0)\n",
    "\n",
    "\n",
    "def L1(A):\n",
    "    return A\n",
    "\n",
    "def L2(A):\n",
    "    return np.diag(d(A))\n",
    "\n",
    "def L3(A):\n",
    "    return np.diag(f(A))\n",
    "\n",
    "def L4(A):\n",
    "    n = A.shape[0]\n",
    "    return s(A) / n * np.eye(n)\n",
    "\n",
    "def L5(A):\n",
    "    n = A.shape[0]\n",
    "    return t(A) / np.sqrt(n) * np.eye(n)\n",
    "\n",
    "def L6(A):\n",
    "    n = A.shape[0]\n",
    "    return s(A) / n ** 2 * np.ones((n, n))\n",
    "\n",
    "def L7(A):\n",
    "    n = A.shape[0]\n",
    "    return t(A) / n ** 1.5 * np.ones((n, n))\n",
    "\n",
    "def L8(A):\n",
    "    n = A.shape[0]\n",
    "    return 1.0 / n ** 0.5 * (np.outer(d(A), np.ones(n)) + np.outer(np.ones(n), d(A)))\n",
    "\n",
    "def L9(A):\n",
    "    n = A.shape[0]\n",
    "    return 1.0 / n ** 0.5 * (np.outer(f(A), np.ones(n)) + np.outer(np.ones(n), f(A)))\n",
    "\n",
    "def B1(A):\n",
    "    n = A.shape[0]\n",
    "    return np.eye(n)\n",
    "\n",
    "def B2(A):\n",
    "    n = A.shape[0]\n",
    "    return np.ones((n, n)) / n\n",
    "\n",
    "functions = [\n",
    "    L1, \n",
    "    L2, \n",
    "    L3, \n",
    "    L4, \n",
    "    L5, \n",
    "    # L6, \n",
    "    # L7, \n",
    "    # L8, \n",
    "    # L9\n",
    "]\n",
    "biases = [\n",
    "    B1, \n",
    "    # B2\n",
    "]\n",
    "\n",
    "def centered(A):\n",
    "    return A - np.mean(A) * np.ones_like(A)\n",
    "\n",
    "def proj_centered(A):\n",
    "    n = A.shape[0]\n",
    "    P = np.eye(n) - 1.0 / n * np.ones((n, n))\n",
    "    return P @ A @ P"
   ]
  },
  {
   "cell_type": "code",
   "execution_count": 389,
   "metadata": {},
   "outputs": [
    {
     "data": {
      "image/png": "[encoded data removed]",
      "text/plain": [
       "<Figure size 360x1440 with 5 Axes>"
      ]
     },
     "metadata": {
      "needs_background": "light"
     },
     "output_type": "display_data"
    }
   ],
   "source": [
    "def F(A, layer_coeffs_functions, layer_coeffs_biases):\n",
    "    layers = layer_coeffs_functions.shape[0]\n",
    "    \n",
    "    ret = np.array(A)\n",
    "    for i in range(layers):\n",
    "        #print('Layer', i + 1)\n",
    "        #print('  |s| =', np.abs(s(ret)) / A.shape[0])\n",
    "        #print('  ||ret|| =', np.max(np.abs(np.linalg.eigvalsh(ret))))\n",
    "        #print()\n",
    "        \n",
    "        ret = (\n",
    "            sum(layer_coeffs_functions[i, j] * functions[j](ret) for j in range(len(functions))) + \n",
    "            sum(layer_coeffs_biases[i, j] * biases[j](ret) for j in range(len(biases)))\n",
    "        )\n",
    "        #ret = np.maximum(0.0, ret)  # ReLU\n",
    "        ret = np.tanh(0.1 * ret)  # Sigmoid\n",
    "        # ret = proj_centered(ret)\n",
    "        \n",
    "    return ret\n",
    "\n",
    "\n",
    "n = 1000\n",
    "\n",
    "fig, axes = plt.subplots(5, 1, figsize=(5, 20))\n",
    "\n",
    "for ax in axes:\n",
    "    layers = 5\n",
    "    coeffs_functions = np.random.normal(size=(layers, len(functions)))\n",
    "    coeffs_biases = np.random.normal(size=(layers, len(functions)))\n",
    "    \n",
    "    # A = tkmath.linalg.random.goe(n)\n",
    "    # A = tkmath.graphs.random.erdos_renyi(n, 0.5)\n",
    "    A = tkmath.graphs.random.planted_clique(n, 0.5, int(5.0 * np.sqrt(n)))\n",
    "    A = (2 * A - np.ones((n, n)) + np.eye(n)) / np.sqrt(n)\n",
    "\n",
    "    ax.hist(np.linalg.eigvalsh(F(A, coeffs_functions, coeffs_biases)), bins=40)"
   ]
  },
  {
   "cell_type": "code",
   "execution_count": 390,
   "metadata": {},
   "outputs": [],
   "source": [
    "layers = 5\n",
    "coeffs_functions = np.random.normal(size=(layers, len(functions)))\n",
    "coeffs_biases = np.random.normal(size=(layers, len(functions)))"
   ]
  },
  {
   "cell_type": "code",
   "execution_count": 393,
   "metadata": {},
   "outputs": [
    {
     "data": {
      "image/png": "[encoded data removed]",
      "text/plain": [
       "<Figure size 432x288 with 1 Axes>"
      ]
     },
     "metadata": {
      "needs_background": "light"
     },
     "output_type": "display_data"
    }
   ],
   "source": [
    "n = 1500\n",
    "\n",
    "A = tkmath.graphs.random.planted_clique(n, 0.5, int(4.0 * np.sqrt(n)))\n",
    "A = (2 * A - np.ones((n, n)) + np.eye(n)) / np.sqrt(n)\n",
    "\n",
    "_ = plt.hist(np.linalg.eigvalsh(F(A, coeffs_functions, coeffs_biases)), bins=40)"
   ]
  },
  {
   "cell_type": "code",
   "execution_count": null,
   "metadata": {},
   "outputs": [],
   "source": []
  }
 ],
 "metadata": {
  "kernelspec": {
   "display_name": "Python 3",
   "language": "python",
   "name": "python3"
  },
  "language_info": {
   "codemirror_mode": {
    "name": "ipython",
    "version": 3
   },
   "file_extension": ".py",
   "mimetype": "text/x-python",
   "name": "python",
   "nbconvert_exporter": "python",
   "pygments_lexer": "ipython3",
   "version": "3.8.10"
  }
 },
 "nbformat": 4,
 "nbformat_minor": 4
}
