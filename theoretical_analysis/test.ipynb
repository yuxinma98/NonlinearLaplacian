{
 "cells": [
  {
   "cell_type": "code",
   "execution_count": 1,
   "metadata": {},
   "outputs": [],
   "source": [
    "import sys\n",
    "import os\n",
    "\n",
    "parent_dir = os.path.abspath(os.path.join(os.getcwd(), os.pardir))\n",
    "if parent_dir not in sys.path:\n",
    "    sys.path.append(parent_dir)\n",
    "import time"
   ]
  },
  {
   "cell_type": "markdown",
   "metadata": {},
   "source": [
    "Test whether the step-function version of the computation gives the same results as the original version"
   ]
  },
  {
   "cell_type": "code",
   "execution_count": 4,
   "metadata": {},
   "outputs": [
    {
     "data": {
      "image/png": "[encoded data removed]",
      "text/plain": [
       "<Figure size 400x300 with 1 Axes>"
      ]
     },
     "metadata": {},
     "output_type": "display_data"
    }
   ],
   "source": [
    "from theoretical_analysis.planted_submatrix_analysis import (\n",
    "    theta,\n",
    "    theta_discrete,\n",
    "    H_discrete,\n",
    "    H,\n",
    "    H_prime_discrete,\n",
    "    H_prime,\n",
    ")\n",
    "\n",
    "from theoretical_analysis import plot_step_function, beta_to_sigma, step_function\n",
    "\n",
    "beta = [0, 2, 1, 1]\n",
    "plot_step_function(beta=beta)\n",
    "sigma = beta_to_sigma(beta)\n",
    "sigma_fn = lambda t: step_function(sigma, t)"
   ]
  },
  {
   "cell_type": "code",
   "execution_count": 8,
   "metadata": {},
   "outputs": [
    {
     "name": "stdout",
     "output_type": "stream",
     "text": [
      "2.366198561588283\n",
      "2.366198561588283\n",
      "2.9521296333902343\n",
      "2.952129633406605\n"
     ]
    }
   ],
   "source": [
    "print(theta_discrete(c=1, sigma=sigma, tol=2e-12))\n",
    "print(theta(c=1, sigma=sigma_fn, sigma_image=[0, sigma[1][-1]], tol=2e-12))\n",
    "\n",
    "print(theta_discrete(c=1.5, sigma=sigma, tol=2e-12))\n",
    "print(theta(c=1.5, sigma=sigma_fn, sigma_image=[0, sigma[1][-1]], tol=2e-12))"
   ]
  },
  {
   "cell_type": "code",
   "execution_count": 9,
   "metadata": {},
   "outputs": [
    {
     "name": "stdout",
     "output_type": "stream",
     "text": [
      "4.295458355324697\n",
      "4.29545835532494\n"
     ]
    }
   ],
   "source": [
    "print(H_discrete(z=4, sigma=sigma))\n",
    "print(H(z=4, sigma=sigma_fn))"
   ]
  },
  {
   "cell_type": "code",
   "execution_count": 10,
   "metadata": {},
   "outputs": [
    {
     "name": "stdout",
     "output_type": "stream",
     "text": [
      "0.9100347038960862\n",
      "0.9100347038960462\n"
     ]
    }
   ],
   "source": [
    "print(H_prime_discrete(z=4, sigma=sigma))\n",
    "print(H_prime(z=4, sigma=sigma_fn, sigma_image=[0, sigma[1][-1]]))"
   ]
  },
  {
   "cell_type": "code",
   "execution_count": 6,
   "metadata": {},
   "outputs": [],
   "source": [
    "from nonnegative_pca_analysis import (\n",
    "    theta,\n",
    "    theta_discrete,\n",
    "    H_discrete,\n",
    "    H,\n",
    "    H_prime_discrete,\n",
    "    H_prime,\n",
    ")"
   ]
  },
  {
   "cell_type": "code",
   "execution_count": 6,
   "metadata": {},
   "outputs": [
    {
     "name": "stdout",
     "output_type": "stream",
     "text": [
      "2.4836519189629684\n"
     ]
    },
    {
     "name": "stderr",
     "output_type": "stream",
     "text": [
      "/cis/home/yma93/miniconda3/envs/ml/lib/python3.9/site-packages/scipy/integrate/_quadpack_py.py:1272: IntegrationWarning: The maximum number of subdivisions (50) has been achieved.\n",
      "  If increasing the limit yields no improvement it is advised to analyze \n",
      "  the integrand in order to determine the difficulties.  If the position of a \n",
      "  local difficulty can be determined (singularity, discontinuity) one will \n",
      "  probably gain from splitting up the interval and calling the integrator \n",
      "  on the subranges.  Perhaps a special-purpose integrator should be used.\n",
      "  quad_r = quad(f, low, high, args=args, full_output=self.full_output,\n",
      "/cis/home/yma93/miniconda3/envs/ml/lib/python3.9/site-packages/scipy/integrate/_quadpack_py.py:1272: IntegrationWarning: The algorithm does not converge.  Roundoff error is detected\n",
      "  in the extrapolation table.  It is assumed that the requested tolerance\n",
      "  cannot be achieved, and that the returned result (if full_output = 1) is \n",
      "  the best which can be obtained.\n",
      "  quad_r = quad(f, low, high, args=args, full_output=self.full_output,\n"
     ]
    },
    {
     "name": "stdout",
     "output_type": "stream",
     "text": [
      "2.4836513731121452\n",
      "Execution time: 475.851260 seconds\n"
     ]
    }
   ],
   "source": [
    "# brentq\n",
    "start = time.time()\n",
    "print(theta_discrete(c=1, sigma=sigma, tol=2e-12))\n",
    "print(theta(c=1, sigma=sigma_fn, sigma_image=[0, sigma[1][-1]], tol=2e-12))\n",
    "end = time.time()\n",
    "\n",
    "print(f\"Execution time: {end - start:.6f} seconds\")"
   ]
  },
  {
   "cell_type": "code",
   "execution_count": 7,
   "metadata": {},
   "outputs": [
    {
     "name": "stdout",
     "output_type": "stream",
     "text": [
      "2.4836519189629684\n"
     ]
    },
    {
     "name": "stderr",
     "output_type": "stream",
     "text": [
      "/cis/home/yma93/miniconda3/envs/ml/lib/python3.9/site-packages/scipy/integrate/_quadpack_py.py:1272: IntegrationWarning: The maximum number of subdivisions (50) has been achieved.\n",
      "  If increasing the limit yields no improvement it is advised to analyze \n",
      "  the integrand in order to determine the difficulties.  If the position of a \n",
      "  local difficulty can be determined (singularity, discontinuity) one will \n",
      "  probably gain from splitting up the interval and calling the integrator \n",
      "  on the subranges.  Perhaps a special-purpose integrator should be used.\n",
      "  quad_r = quad(f, low, high, args=args, full_output=self.full_output,\n",
      "/cis/home/yma93/miniconda3/envs/ml/lib/python3.9/site-packages/scipy/integrate/_quadpack_py.py:1272: IntegrationWarning: The algorithm does not converge.  Roundoff error is detected\n",
      "  in the extrapolation table.  It is assumed that the requested tolerance\n",
      "  cannot be achieved, and that the returned result (if full_output = 1) is \n",
      "  the best which can be obtained.\n",
      "  quad_r = quad(f, low, high, args=args, full_output=self.full_output,\n"
     ]
    },
    {
     "name": "stdout",
     "output_type": "stream",
     "text": [
      "2.4836513731407983\n",
      "Execution time: 1701.397407 seconds\n"
     ]
    }
   ],
   "source": [
    "# newton\n",
    "start = time.time()\n",
    "print(theta_discrete(c=1, sigma=sigma, tol=2e-12))\n",
    "print(theta(c=1, sigma=sigma_fn, sigma_image=[0, sigma[1][-1]], tol=2e-12))\n",
    "end = time.time()\n",
    "\n",
    "print(f\"Execution time: {end - start:.6f} seconds\")"
   ]
  },
  {
   "cell_type": "code",
   "execution_count": 7,
   "metadata": {},
   "outputs": [
    {
     "name": "stdout",
     "output_type": "stream",
     "text": [
      "4.327953066705202\n",
      "4.327952888651979\n",
      "Execution time: 20.260167 seconds\n"
     ]
    },
    {
     "name": "stderr",
     "output_type": "stream",
     "text": [
      "/cis/home/yma93/miniconda3/envs/ml/lib/python3.9/site-packages/scipy/integrate/_quadpack_py.py:1272: IntegrationWarning: The maximum number of subdivisions (50) has been achieved.\n",
      "  If increasing the limit yields no improvement it is advised to analyze \n",
      "  the integrand in order to determine the difficulties.  If the position of a \n",
      "  local difficulty can be determined (singularity, discontinuity) one will \n",
      "  probably gain from splitting up the interval and calling the integrator \n",
      "  on the subranges.  Perhaps a special-purpose integrator should be used.\n",
      "  quad_r = quad(f, low, high, args=args, full_output=self.full_output,\n"
     ]
    }
   ],
   "source": [
    "start = time.time()\n",
    "print(H_discrete(z=4, sigma=sigma, c=1))\n",
    "print(H(z=4, sigma=sigma_fn, c=1))\n",
    "end = time.time()\n",
    "print(f\"Execution time: {end - start:.6f} seconds\")"
   ]
  },
  {
   "cell_type": "code",
   "execution_count": 8,
   "metadata": {},
   "outputs": [
    {
     "name": "stdout",
     "output_type": "stream",
     "text": [
      "0.8874217298305729\n",
      "0.8874218440306838\n",
      "Execution time: 19.857872 seconds\n"
     ]
    }
   ],
   "source": [
    "start = time.time()\n",
    "print(H_prime_discrete(z=4, sigma=sigma, c=1))\n",
    "print(H_prime(z=4, sigma=sigma_fn, sigma_image=[0, sigma[1][-1]], c=1))\n",
    "end = time.time()\n",
    "print(f\"Execution time: {end - start:.6f} seconds\")"
   ]
  },
  {
   "cell_type": "code",
   "execution_count": null,
   "metadata": {},
   "outputs": [],
   "source": []
  }
 ],
 "metadata": {
  "kernelspec": {
   "display_name": "ml",
   "language": "python",
   "name": "python3"
  },
  "language_info": {
   "codemirror_mode": {
    "name": "ipython",
    "version": 3
   },
   "file_extension": ".py",
   "mimetype": "text/x-python",
   "name": "python",
   "nbconvert_exporter": "python",
   "pygments_lexer": "ipython3",
   "version": "3.9.18"
  }
 },
 "nbformat": 4,
 "nbformat_minor": 2
}
